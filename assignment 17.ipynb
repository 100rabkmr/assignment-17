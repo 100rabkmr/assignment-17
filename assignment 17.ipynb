{
 "cells": [
  {
   "cell_type": "code",
   "execution_count": 11,
   "id": "82440371",
   "metadata": {},
   "outputs": [
    {
     "name": "stdout",
     "output_type": "stream",
     "text": [
      "enter value : 9\n",
      "Too High\n"
     ]
    }
   ],
   "source": [
    "# Q. Assign the value 7 to the variable guess_me. Then, write the conditional tests (if, else, and elif) to print the string 'too low' if guess_me is less than 7, 'too high' if greater than 7, and 'just right' if equal to 7.\n",
    "\n",
    "\n",
    "guess_me = int(input(\"enter value : \"))\n",
    "if guess_me == 7 :\n",
    "    print('Just Right')\n",
    "elif guess_me > 7 :\n",
    "    print(\"Too High\")\n",
    "else:\n",
    "    print('Too Low')\n",
    "     "
   ]
  },
  {
   "cell_type": "code",
   "execution_count": 12,
   "id": "95472d77",
   "metadata": {},
   "outputs": [
    {
     "name": "stdout",
     "output_type": "stream",
     "text": [
      "too low\n",
      "too low\n",
      "too low\n",
      "too low\n",
      "too low\n",
      "too low\n",
      "found it!\n"
     ]
    }
   ],
   "source": [
    "# Q. Assign the value 7 to the variable guess_me and the value 1 to the variable start. Write a while loop that compares start with guess_me. Print too low if start is less than guess me. If start equals guess_me, print 'found it!' and exit the loop. If start is greater than guess_me, print 'oops' and exit the loop. Increment start at the end of the loop\n",
    "\n",
    "\n",
    "guess_me = 7\n",
    "start = 1\n",
    "\n",
    "while True:\n",
    "    if start < guess_me:\n",
    "        print('too low')\n",
    "    elif start == guess_me:\n",
    "        print('found it!')\n",
    "        break\n",
    "    else:\n",
    "        print('oops')\n",
    "        break\n",
    "    start += 1"
   ]
  },
  {
   "cell_type": "code",
   "execution_count": 13,
   "id": "374b8952",
   "metadata": {},
   "outputs": [
    {
     "name": "stdout",
     "output_type": "stream",
     "text": [
      "3\n",
      "2\n",
      "1\n",
      "0\n"
     ]
    }
   ],
   "source": [
    "# Q. Print the following values of the list [3, 2, 1, 0] using a for loop.\n",
    "\n",
    "\n",
    "lst = [3,2,1,0]\n",
    "for i in lst:\n",
    "    print(i)"
   ]
  },
  {
   "cell_type": "code",
   "execution_count": 14,
   "id": "bb939c4e",
   "metadata": {},
   "outputs": [
    {
     "data": {
      "text/plain": [
       "[0, 2, 4, 6, 8]"
      ]
     },
     "execution_count": 14,
     "metadata": {},
     "output_type": "execute_result"
    }
   ],
   "source": [
    "# Q. Use a list comprehension to make a list of the even numbers in range(10)\n",
    "\n",
    "\n",
    "even = [item for item in range(10) if item%2==0]\n",
    "even\n",
    "     "
   ]
  },
  {
   "cell_type": "code",
   "execution_count": 15,
   "id": "d493232d",
   "metadata": {},
   "outputs": [
    {
     "data": {
      "text/plain": [
       "{0: 0, 1: 1, 2: 4, 3: 9, 4: 16, 5: 25, 6: 36, 7: 49, 8: 64, 9: 81}"
      ]
     },
     "execution_count": 15,
     "metadata": {},
     "output_type": "execute_result"
    }
   ],
   "source": [
    "# Q. Use a dictionary comprehension to create the dictionary squares. Use range(10) to return the keys, and use the square of each key as its value.\n",
    "\n",
    "\n",
    "squares = {num: num * num for num in range(10)}\n",
    "squares\n",
    "     "
   ]
  },
  {
   "cell_type": "code",
   "execution_count": 16,
   "id": "7457c783",
   "metadata": {},
   "outputs": [
    {
     "data": {
      "text/plain": [
       "{1, 3, 5, 7, 9}"
      ]
     },
     "execution_count": 16,
     "metadata": {},
     "output_type": "execute_result"
    }
   ],
   "source": [
    "# Q. Construct the set odd from the odd numbers in the range using a set comprehension (10).\n",
    "\n",
    "\n",
    "odd = {item for item in range(10) if item%2==1}\n",
    "odd"
   ]
  },
  {
   "cell_type": "code",
   "execution_count": 17,
   "id": "07820e77",
   "metadata": {},
   "outputs": [
    {
     "name": "stdout",
     "output_type": "stream",
     "text": [
      "Got 0\n",
      "Got 1\n",
      "Got 2\n",
      "Got 3\n",
      "Got 4\n",
      "Got 5\n",
      "Got 6\n",
      "Got 7\n",
      "Got 8\n",
      "Got 9\n"
     ]
    }
   ],
   "source": [
    "\t\n",
    "# Q. Use a generator comprehension to return the string 'Got' and a number for the numbers in range(10). Iterate through this by using a for loop.\n",
    "\n",
    "\n",
    "string_generator = ('Got ' + str(num) for num in range(10))\n",
    "for item in string_generator:\n",
    "    print(item)"
   ]
  },
  {
   "cell_type": "code",
   "execution_count": 18,
   "id": "cbfaba19",
   "metadata": {},
   "outputs": [
    {
     "data": {
      "text/plain": [
       "['Harry', 'Ron', 'Hermione']"
      ]
     },
     "execution_count": 18,
     "metadata": {},
     "output_type": "execute_result"
    }
   ],
   "source": [
    "# Q. Define a function called good that returns the list ['Harry', 'Ron', 'Hermione']\n",
    "\n",
    "\n",
    "def retunList():\n",
    "    return ['Harry', 'Ron', 'Hermione']\n",
    "retunList()"
   ]
  },
  {
   "cell_type": "code",
   "execution_count": 19,
   "id": "f87dd523",
   "metadata": {},
   "outputs": [
    {
     "name": "stdout",
     "output_type": "stream",
     "text": [
      "The third odd number is 5\n"
     ]
    }
   ],
   "source": [
    "# Q. Define a generator function called get_odds that returns the odd numbers from range(10). Use a for loop to find and print the third value returned\n",
    "\n",
    "\n",
    "def get_odds():\n",
    "    for number in range(1, 10, 2):\n",
    "         yield number\n",
    "count = 1\n",
    "for number in get_odds():\n",
    "    if count == 3:\n",
    "        print(\"The third odd number is\", number)\n",
    "        break\n",
    "    count += 1"
   ]
  },
  {
   "cell_type": "code",
   "execution_count": 20,
   "id": "2cb7910d",
   "metadata": {},
   "outputs": [
    {
     "name": "stdout",
     "output_type": "stream",
     "text": [
      "Caught an oops\n"
     ]
    }
   ],
   "source": [
    "# Q. Define an exception called OopsException. Raise this exception to see what happens. Then writethe code to catch this exception and print 'Caught an oops'\n",
    "\n",
    "\n",
    "class OopsException(Exception):\n",
    "    pass\n",
    "\n",
    "def raiseException(num):\n",
    "    if num < 0:\n",
    "        raise OopsException(num)\n",
    "\n",
    "try:\n",
    "    raiseException(-1)\n",
    "except OopsException as err:\n",
    "    print('Caught an oops')\n"
   ]
  },
  {
   "cell_type": "code",
   "execution_count": 21,
   "id": "4cbc4195",
   "metadata": {},
   "outputs": [
    {
     "name": "stdout",
     "output_type": "stream",
     "text": [
      "{'Creature of Habit': 'A nun turns into a monster', 'Crewel Fate': 'A haunted yarn shop'}\n"
     ]
    }
   ],
   "source": [
    "# Q. Use zip() to make a dictionary called movies that pairs these lists: titles = ['Creature of Habit', 'Crewel Fate'] and plots = ['A nun turns into a monster', 'A haunted yarn shop'].\n",
    "\n",
    "\n",
    "titles = ['Creature of Habit', 'Crewel Fate']\n",
    "plots = ['A nun turns into a monster', 'A haunted yarn shop']\n",
    "movies = dict(zip(titles, plots))\n",
    "print(movies)"
   ]
  },
  {
   "cell_type": "code",
   "execution_count": null,
   "id": "f27c3ddc",
   "metadata": {},
   "outputs": [],
   "source": []
  }
 ],
 "metadata": {
  "kernelspec": {
   "display_name": "Python 3 (ipykernel)",
   "language": "python",
   "name": "python3"
  },
  "language_info": {
   "codemirror_mode": {
    "name": "ipython",
    "version": 3
   },
   "file_extension": ".py",
   "mimetype": "text/x-python",
   "name": "python",
   "nbconvert_exporter": "python",
   "pygments_lexer": "ipython3",
   "version": "3.11.7"
  }
 },
 "nbformat": 4,
 "nbformat_minor": 5
}
